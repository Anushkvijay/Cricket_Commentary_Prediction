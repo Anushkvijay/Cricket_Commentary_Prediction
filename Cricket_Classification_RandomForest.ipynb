{
  "nbformat": 4,
  "nbformat_minor": 0,
  "metadata": {
    "colab": {
      "name": "Cricket_Classification_RandomForest.ipynb",
      "provenance": [],
      "collapsed_sections": []
    },
    "kernelspec": {
      "name": "python3",
      "display_name": "Python 3"
    },
    "accelerator": "GPU"
  },
  "cells": [
    {
      "cell_type": "markdown",
      "metadata": {
        "id": "ZwyXQqdYJaOS",
        "colab_type": "text"
      },
      "source": [
        "Importing neccessary libraries"
      ]
    },
    {
      "cell_type": "code",
      "metadata": {
        "id": "aSeKPuCmEsVY",
        "colab_type": "code",
        "colab": {}
      },
      "source": [
        "import pandas as pd\n",
        "import numpy as np\n",
        "import matplotlib.pyplot as plt\n",
        "import seaborn as sns\n",
        "import re\n",
        "import warnings \n",
        "warnings.filterwarnings(\"ignore\")\n",
        "sns.set(style=\"white\", color_codes=True,rc={'figure.figsize':(20,10)})\n"
      ],
      "execution_count": 29,
      "outputs": []
    },
    {
      "cell_type": "markdown",
      "metadata": {
        "id": "-G1IQC3zJf3t",
        "colab_type": "text"
      },
      "source": [
        "Downloading neccesary nltk packages"
      ]
    },
    {
      "cell_type": "code",
      "metadata": {
        "id": "32W7TpaUJD4s",
        "colab_type": "code",
        "colab": {
          "base_uri": "https://localhost:8080/",
          "height": 204
        },
        "outputId": "0b89b70e-09c7-4879-fc6b-24c5b7518e5d"
      },
      "source": [
        "import nltk\n",
        "nltk.download('wordnet')\n",
        "nltk.download('averaged_perceptron_tagger')\n",
        "nltk.download('punkt')\n",
        "nltk.download('stopwords')"
      ],
      "execution_count": 30,
      "outputs": [
        {
          "output_type": "stream",
          "text": [
            "[nltk_data] Downloading package wordnet to /root/nltk_data...\n",
            "[nltk_data]   Package wordnet is already up-to-date!\n",
            "[nltk_data] Downloading package averaged_perceptron_tagger to\n",
            "[nltk_data]     /root/nltk_data...\n",
            "[nltk_data]   Package averaged_perceptron_tagger is already up-to-\n",
            "[nltk_data]       date!\n",
            "[nltk_data] Downloading package punkt to /root/nltk_data...\n",
            "[nltk_data]   Package punkt is already up-to-date!\n",
            "[nltk_data] Downloading package stopwords to /root/nltk_data...\n",
            "[nltk_data]   Package stopwords is already up-to-date!\n"
          ],
          "name": "stdout"
        },
        {
          "output_type": "execute_result",
          "data": {
            "text/plain": [
              "True"
            ]
          },
          "metadata": {
            "tags": []
          },
          "execution_count": 30
        }
      ]
    },
    {
      "cell_type": "markdown",
      "metadata": {
        "id": "Asec-vYdJkrJ",
        "colab_type": "text"
      },
      "source": [
        "Loading Dataset and printing some stats"
      ]
    },
    {
      "cell_type": "code",
      "metadata": {
        "id": "m1dRMpncGkEu",
        "colab_type": "code",
        "colab": {
          "base_uri": "https://localhost:8080/",
          "height": 611
        },
        "outputId": "c373ef56-3c23-442e-a8b8-abca3919c6c4"
      },
      "source": [
        "df = pd.read_excel(\"/content/drive/My Drive/Colab Notebooks/CCC_TrainingData.xlsx\",index_col='ID',dtype=str)\n",
        "# plot(df)\n",
        "print(df.shape)\n",
        "print(df.columns)\n",
        "print(df.isnull().sum())\n",
        "# value = df['Target'].value_counts()\n",
        "# print(value)\n",
        "import matplotlib.pyplot as plt\n",
        "fig = plt.figure(figsize=(8,6))\n",
        "df.groupby('Target').Commentary.count().plot.bar(ylim=0)\n",
        "plt.show()"
      ],
      "execution_count": 31,
      "outputs": [
        {
          "output_type": "stream",
          "text": [
            "(101634, 5)\n",
            "Index(['Match_ID', 'Over', 'Commentary', 'Over_Run_Total', 'Target'], dtype='object')\n",
            "Match_ID          0\n",
            "Over              0\n",
            "Commentary        0\n",
            "Over_Run_Total    0\n",
            "Target            0\n",
            "dtype: int64\n"
          ],
          "name": "stdout"
        },
        {
          "output_type": "display_data",
          "data": {
            "image/png": "[encoded data removed]",
            "text/plain": [
              "<Figure size 576x432 with 1 Axes>"
            ]
          },
          "metadata": {
            "tags": []
          }
        }
      ]
    },
    {
      "cell_type": "markdown",
      "metadata": {
        "id": "090kQIT3Jq8z",
        "colab_type": "text"
      },
      "source": [
        "Dropping unneccessary features"
      ]
    },
    {
      "cell_type": "code",
      "metadata": {
        "id": "P75LDCTdGktc",
        "colab_type": "code",
        "colab": {
          "base_uri": "https://localhost:8080/",
          "height": 235
        },
        "outputId": "fcd05882-f1e9-4758-b270-144a432a4612"
      },
      "source": [
        "from io import StringIO\n",
        "col = ['Commentary', 'Target']\n",
        "df = df[col]\n",
        "df = df[pd.notnull(df['Commentary'])]\n",
        "\n",
        "df['Target_ID'] = df['Target'].factorize()[0]\n",
        "target_id_df = df[['Target', 'Target_ID']].drop_duplicates().sort_values('Target_ID')\n",
        "target_to_id = dict(target_id_df.values)\n",
        "id_to_target = dict(target_id_df[['Target_ID', 'Target']].values)\n",
        "df.head()"
      ],
      "execution_count": 32,
      "outputs": [
        {
          "output_type": "execute_result",
          "data": {
            "text/html": [
              "<div>\n",
              "<style scoped>\n",
              "    .dataframe tbody tr th:only-of-type {\n",
              "        vertical-align: middle;\n",
              "    }\n",
              "\n",
              "    .dataframe tbody tr th {\n",
              "        vertical-align: top;\n",
              "    }\n",
              "\n",
              "    .dataframe thead th {\n",
              "        text-align: right;\n",
              "    }\n",
              "</style>\n",
              "<table border=\"1\" class=\"dataframe\">\n",
              "  <thead>\n",
              "    <tr style=\"text-align: right;\">\n",
              "      <th></th>\n",
              "      <th>Commentary</th>\n",
              "      <th>Target</th>\n",
              "      <th>Target_ID</th>\n",
              "    </tr>\n",
              "    <tr>\n",
              "      <th>ID</th>\n",
              "      <th></th>\n",
              "      <th></th>\n",
              "      <th></th>\n",
              "    </tr>\n",
              "  </thead>\n",
              "  <tbody>\n",
              "    <tr>\n",
              "      <th>0</th>\n",
              "      <td>and india reach 300. there has been a 300 in ...</td>\n",
              "      <td>Run_Bw_Wickets</td>\n",
              "      <td>0</td>\n",
              "    </tr>\n",
              "    <tr>\n",
              "      <th>1</th>\n",
              "      <td>slower ball, ashwin bunts this to leg for -99...</td>\n",
              "      <td>Run_Bw_Wickets</td>\n",
              "      <td>0</td>\n",
              "    </tr>\n",
              "    <tr>\n",
              "      <th>2</th>\n",
              "      <td>full toss on off, he just slogs, gets a thick...</td>\n",
              "      <td>Run_Bw_Wickets</td>\n",
              "      <td>0</td>\n",
              "    </tr>\n",
              "    <tr>\n",
              "      <th>3</th>\n",
              "      <td>that's the closest you'll get to a hat-trick ...</td>\n",
              "      <td>Dot</td>\n",
              "      <td>1</td>\n",
              "    </tr>\n",
              "    <tr>\n",
              "      <th>4</th>\n",
              "      <td>sohail is doing the sajda after bowling rahan...</td>\n",
              "      <td>Wicket</td>\n",
              "      <td>2</td>\n",
              "    </tr>\n",
              "  </tbody>\n",
              "</table>\n",
              "</div>"
            ],
            "text/plain": [
              "                                           Commentary  ... Target_ID\n",
              "ID                                                     ...          \n",
              "0    and india reach 300. there has been a 300 in ...  ...         0\n",
              "1    slower ball, ashwin bunts this to leg for -99...  ...         0\n",
              "2    full toss on off, he just slogs, gets a thick...  ...         0\n",
              "3    that's the closest you'll get to a hat-trick ...  ...         1\n",
              "4    sohail is doing the sajda after bowling rahan...  ...         2\n",
              "\n",
              "[5 rows x 3 columns]"
            ]
          },
          "metadata": {
            "tags": []
          },
          "execution_count": 32
        }
      ]
    },
    {
      "cell_type": "code",
      "metadata": {
        "id": "vNct4ikp-P6X",
        "colab_type": "code",
        "colab": {}
      },
      "source": [
        "from wordcloud import WordCloud\n",
        "wordcloud = WordCloud().generate(df.Commentary)\n",
        "\n",
        "# Display the generated image:\n",
        "plt.imshow(wordcloud, interpolation='bilinear')\n",
        "plt.axis(\"off\")\n",
        "plt.show()"
      ],
      "execution_count": null,
      "outputs": []
    },
    {
      "cell_type": "markdown",
      "metadata": {
        "id": "gbSTBb76Jvsh",
        "colab_type": "text"
      },
      "source": [
        "Preprocessing Data"
      ]
    },
    {
      "cell_type": "code",
      "metadata": {
        "id": "nHrN_0-YKene",
        "colab_type": "code",
        "colab": {}
      },
      "source": [
        "from nltk.corpus import wordnet\n",
        "from nltk.stem import WordNetLemmatizer\n",
        "import string\n",
        "from nltk.corpus import stopwords\n",
        "\n",
        "PUNCT_TO_REMOVE = string.punctuation\n",
        "STOPWORDS = set(stopwords.words('english'))\n",
        "lemmatizer = WordNetLemmatizer()\n",
        "wordnet_map = {\"N\":wordnet.NOUN, \"V\":wordnet.VERB, \"J\":wordnet.ADJ, \"R\":wordnet.ADV}\n",
        "remove_digits = str.maketrans('', '', '0123456789')\n",
        "ps = nltk.PorterStemmer()\n",
        "def clean_data(text):\n",
        "  text = text.translate(str.maketrans('', '', PUNCT_TO_REMOVE))\n",
        "  text = text.translate(remove_digits)\n",
        "  tokens = re.split('\\W+', text)\n",
        "  text = [ps.stem(word) for word in tokens if word not in STOPWORDS]\n",
        "  return text\n",
        "\n",
        "df['body_len'] = df['Commentary'].apply(lambda x: len(x) - x.count(\" \"))"
      ],
      "execution_count": 34,
      "outputs": []
    },
    {
      "cell_type": "code",
      "metadata": {
        "id": "v1oeCaj_DuLZ",
        "colab_type": "code",
        "colab": {}
      },
      "source": [
        "# bins = np.linspace(0,50,5)\n",
        "# plt.hist(df[df['Target']=='Run_Bw_Wickets']['body_len'],bins,alpha=0.5,density=True,label='Run_Bw_Wickets')\n",
        "# plt.hist(df[df['Target']=='Dot']['body_len'],bins,alpha=0.5,density=True,label='Dot')\n",
        "# plt.hist(df[df['Target']=='Wicket']['body_len'],bins,alpha=0.5,density=True,label='Wicket')\n",
        "# plt.hist(df[df['Target']=='Boundary']['body_len'],bins,alpha=0.5,density=True,label='Boundary')\n",
        "# plt.show()"
      ],
      "execution_count": null,
      "outputs": []
    },
    {
      "cell_type": "markdown",
      "metadata": {
        "id": "tbFacnU6Jyiy",
        "colab_type": "text"
      },
      "source": [
        "Scaling commentary length feature"
      ]
    },
    {
      "cell_type": "code",
      "metadata": {
        "id": "14SfCgQJLn0b",
        "colab_type": "code",
        "colab": {}
      },
      "source": [
        "from sklearn.preprocessing import StandardScaler\n",
        "scaler = StandardScaler(with_mean=False)\n",
        "scaler.fit(df[['body_len']])\n",
        "df[['body_len']] = scaler.transform(df[['body_len']])"
      ],
      "execution_count": 35,
      "outputs": []
    },
    {
      "cell_type": "markdown",
      "metadata": {
        "id": "24RdPDvUJ5LD",
        "colab_type": "text"
      },
      "source": [
        "Vectorizing and creating tf-idf vector matrix"
      ]
    },
    {
      "cell_type": "code",
      "metadata": {
        "id": "G5tIX0SDMvPz",
        "colab_type": "code",
        "colab": {
          "base_uri": "https://localhost:8080/",
          "height": 34
        },
        "outputId": "bfc1e1fb-92a9-44f0-82de-7f4dc00f7da9"
      },
      "source": [
        "from sklearn.feature_extraction.text import TfidfVectorizer\n",
        "tfidf = TfidfVectorizer(sublinear_tf=True, min_df=5, norm='l2', encoding='latin-1', ngram_range=(1,2),max_features=500,analyzer=clean_data)\n",
        "features = pd.concat([df['body_len'], pd.DataFrame(tfidf.fit_transform(df.Commentary).toarray())],axis=1)\n",
        "labels = df.Target_ID\n",
        "features.shape"
      ],
      "execution_count": 36,
      "outputs": [
        {
          "output_type": "execute_result",
          "data": {
            "text/plain": [
              "(101634, 501)"
            ]
          },
          "metadata": {
            "tags": []
          },
          "execution_count": 36
        }
      ]
    },
    {
      "cell_type": "code",
      "metadata": {
        "id": "fEfpgZRFQ3om",
        "colab_type": "code",
        "colab": {
          "base_uri": "https://localhost:8080/",
          "height": 346
        },
        "outputId": "36344433-bf21-40d1-c1c7-f892237a055e"
      },
      "source": [
        "from sklearn.model_selection import train_test_split\n",
        "from sklearn.ensemble import RandomForestClassifier\n",
        "\n",
        "display(features.describe())"
      ],
      "execution_count": 37,
      "outputs": [
        {
          "output_type": "display_data",
          "data": {
            "text/html": [
              "<div>\n",
              "<style scoped>\n",
              "    .dataframe tbody tr th:only-of-type {\n",
              "        vertical-align: middle;\n",
              "    }\n",
              "\n",
              "    .dataframe tbody tr th {\n",
              "        vertical-align: top;\n",
              "    }\n",
              "\n",
              "    .dataframe thead th {\n",
              "        text-align: right;\n",
              "    }\n",
              "</style>\n",
              "<table border=\"1\" class=\"dataframe\">\n",
              "  <thead>\n",
              "    <tr style=\"text-align: right;\">\n",
              "      <th></th>\n",
              "      <th>body_len</th>\n",
              "      <th>0</th>\n",
              "      <th>1</th>\n",
              "      <th>2</th>\n",
              "      <th>3</th>\n",
              "      <th>4</th>\n",
              "      <th>5</th>\n",
              "      <th>6</th>\n",
              "      <th>7</th>\n",
              "      <th>8</th>\n",
              "      <th>9</th>\n",
              "      <th>10</th>\n",
              "      <th>11</th>\n",
              "      <th>12</th>\n",
              "      <th>13</th>\n",
              "      <th>14</th>\n",
              "      <th>15</th>\n",
              "      <th>16</th>\n",
              "      <th>17</th>\n",
              "      <th>18</th>\n",
              "      <th>19</th>\n",
              "      <th>20</th>\n",
              "      <th>21</th>\n",
              "      <th>22</th>\n",
              "      <th>23</th>\n",
              "      <th>24</th>\n",
              "      <th>25</th>\n",
              "      <th>26</th>\n",
              "      <th>27</th>\n",
              "      <th>28</th>\n",
              "      <th>29</th>\n",
              "      <th>30</th>\n",
              "      <th>31</th>\n",
              "      <th>32</th>\n",
              "      <th>33</th>\n",
              "      <th>34</th>\n",
              "      <th>35</th>\n",
              "      <th>36</th>\n",
              "      <th>37</th>\n",
              "      <th>38</th>\n",
              "      <th>...</th>\n",
              "      <th>460</th>\n",
              "      <th>461</th>\n",
              "      <th>462</th>\n",
              "      <th>463</th>\n",
              "      <th>464</th>\n",
              "      <th>465</th>\n",
              "      <th>466</th>\n",
              "      <th>467</th>\n",
              "      <th>468</th>\n",
              "      <th>469</th>\n",
              "      <th>470</th>\n",
              "      <th>471</th>\n",
              "      <th>472</th>\n",
              "      <th>473</th>\n",
              "      <th>474</th>\n",
              "      <th>475</th>\n",
              "      <th>476</th>\n",
              "      <th>477</th>\n",
              "      <th>478</th>\n",
              "      <th>479</th>\n",
              "      <th>480</th>\n",
              "      <th>481</th>\n",
              "      <th>482</th>\n",
              "      <th>483</th>\n",
              "      <th>484</th>\n",
              "      <th>485</th>\n",
              "      <th>486</th>\n",
              "      <th>487</th>\n",
              "      <th>488</th>\n",
              "      <th>489</th>\n",
              "      <th>490</th>\n",
              "      <th>491</th>\n",
              "      <th>492</th>\n",
              "      <th>493</th>\n",
              "      <th>494</th>\n",
              "      <th>495</th>\n",
              "      <th>496</th>\n",
              "      <th>497</th>\n",
              "      <th>498</th>\n",
              "      <th>499</th>\n",
              "    </tr>\n",
              "  </thead>\n",
              "  <tbody>\n",
              "    <tr>\n",
              "      <th>count</th>\n",
              "      <td>101634.000000</td>\n",
              "      <td>101634.000000</td>\n",
              "      <td>101634.000000</td>\n",
              "      <td>101634.000000</td>\n",
              "      <td>101634.000000</td>\n",
              "      <td>101634.000000</td>\n",
              "      <td>101634.000000</td>\n",
              "      <td>101634.000000</td>\n",
              "      <td>101634.000000</td>\n",
              "      <td>101634.000000</td>\n",
              "      <td>101634.000000</td>\n",
              "      <td>101634.000000</td>\n",
              "      <td>101634.000000</td>\n",
              "      <td>101634.000000</td>\n",
              "      <td>101634.000000</td>\n",
              "      <td>101634.000000</td>\n",
              "      <td>101634.000000</td>\n",
              "      <td>101634.000000</td>\n",
              "      <td>101634.000000</td>\n",
              "      <td>101634.000000</td>\n",
              "      <td>101634.000000</td>\n",
              "      <td>101634.000000</td>\n",
              "      <td>101634.000000</td>\n",
              "      <td>101634.000000</td>\n",
              "      <td>101634.000000</td>\n",
              "      <td>101634.000000</td>\n",
              "      <td>101634.000000</td>\n",
              "      <td>101634.000000</td>\n",
              "      <td>101634.000000</td>\n",
              "      <td>101634.000000</td>\n",
              "      <td>101634.000000</td>\n",
              "      <td>101634.000000</td>\n",
              "      <td>101634.000000</td>\n",
              "      <td>101634.000000</td>\n",
              "      <td>101634.000000</td>\n",
              "      <td>101634.000000</td>\n",
              "      <td>101634.000000</td>\n",
              "      <td>101634.000000</td>\n",
              "      <td>101634.000000</td>\n",
              "      <td>101634.000000</td>\n",
              "      <td>...</td>\n",
              "      <td>101634.000000</td>\n",
              "      <td>101634.000000</td>\n",
              "      <td>101634.000000</td>\n",
              "      <td>101634.000000</td>\n",
              "      <td>101634.000000</td>\n",
              "      <td>101634.000000</td>\n",
              "      <td>101634.000000</td>\n",
              "      <td>101634.000000</td>\n",
              "      <td>101634.000000</td>\n",
              "      <td>101634.000000</td>\n",
              "      <td>101634.000000</td>\n",
              "      <td>101634.000000</td>\n",
              "      <td>101634.000000</td>\n",
              "      <td>101634.000000</td>\n",
              "      <td>101634.000000</td>\n",
              "      <td>101634.000000</td>\n",
              "      <td>101634.000000</td>\n",
              "      <td>101634.000000</td>\n",
              "      <td>101634.000000</td>\n",
              "      <td>101634.000000</td>\n",
              "      <td>101634.000000</td>\n",
              "      <td>101634.000000</td>\n",
              "      <td>101634.000000</td>\n",
              "      <td>101634.000000</td>\n",
              "      <td>101634.000000</td>\n",
              "      <td>101634.000000</td>\n",
              "      <td>101634.000000</td>\n",
              "      <td>101634.000000</td>\n",
              "      <td>101634.000000</td>\n",
              "      <td>101634.000000</td>\n",
              "      <td>101634.000000</td>\n",
              "      <td>101634.000000</td>\n",
              "      <td>101634.000000</td>\n",
              "      <td>101634.000000</td>\n",
              "      <td>101634.000000</td>\n",
              "      <td>101634.000000</td>\n",
              "      <td>101634.000000</td>\n",
              "      <td>101634.000000</td>\n",
              "      <td>101634.000000</td>\n",
              "      <td>101634.000000</td>\n",
              "    </tr>\n",
              "    <tr>\n",
              "      <th>mean</th>\n",
              "      <td>1.642468</td>\n",
              "      <td>0.095329</td>\n",
              "      <td>0.001861</td>\n",
              "      <td>0.001643</td>\n",
              "      <td>0.012757</td>\n",
              "      <td>0.001636</td>\n",
              "      <td>0.001746</td>\n",
              "      <td>0.001715</td>\n",
              "      <td>0.006194</td>\n",
              "      <td>0.001474</td>\n",
              "      <td>0.002525</td>\n",
              "      <td>0.003542</td>\n",
              "      <td>0.006141</td>\n",
              "      <td>0.002460</td>\n",
              "      <td>0.001864</td>\n",
              "      <td>0.001476</td>\n",
              "      <td>0.011708</td>\n",
              "      <td>0.014233</td>\n",
              "      <td>0.003702</td>\n",
              "      <td>0.003847</td>\n",
              "      <td>0.008803</td>\n",
              "      <td>0.003983</td>\n",
              "      <td>0.042353</td>\n",
              "      <td>0.001594</td>\n",
              "      <td>0.009995</td>\n",
              "      <td>0.001142</td>\n",
              "      <td>0.039191</td>\n",
              "      <td>0.003034</td>\n",
              "      <td>0.013152</td>\n",
              "      <td>0.010064</td>\n",
              "      <td>0.001733</td>\n",
              "      <td>0.006537</td>\n",
              "      <td>0.006785</td>\n",
              "      <td>0.001800</td>\n",
              "      <td>0.008860</td>\n",
              "      <td>0.001889</td>\n",
              "      <td>0.003023</td>\n",
              "      <td>0.004952</td>\n",
              "      <td>0.006564</td>\n",
              "      <td>0.005972</td>\n",
              "      <td>...</td>\n",
              "      <td>0.001148</td>\n",
              "      <td>0.002689</td>\n",
              "      <td>0.001493</td>\n",
              "      <td>0.004177</td>\n",
              "      <td>0.015790</td>\n",
              "      <td>0.006471</td>\n",
              "      <td>0.022943</td>\n",
              "      <td>0.008663</td>\n",
              "      <td>0.011201</td>\n",
              "      <td>0.005782</td>\n",
              "      <td>0.015848</td>\n",
              "      <td>0.002945</td>\n",
              "      <td>0.001415</td>\n",
              "      <td>0.003142</td>\n",
              "      <td>0.001317</td>\n",
              "      <td>0.001319</td>\n",
              "      <td>0.001434</td>\n",
              "      <td>0.004814</td>\n",
              "      <td>0.002900</td>\n",
              "      <td>0.003028</td>\n",
              "      <td>0.001817</td>\n",
              "      <td>0.001477</td>\n",
              "      <td>0.002002</td>\n",
              "      <td>0.002824</td>\n",
              "      <td>0.006191</td>\n",
              "      <td>0.013374</td>\n",
              "      <td>0.003316</td>\n",
              "      <td>0.006320</td>\n",
              "      <td>0.023109</td>\n",
              "      <td>0.001636</td>\n",
              "      <td>0.004177</td>\n",
              "      <td>0.001196</td>\n",
              "      <td>0.002145</td>\n",
              "      <td>0.016362</td>\n",
              "      <td>0.002911</td>\n",
              "      <td>0.002624</td>\n",
              "      <td>0.001718</td>\n",
              "      <td>0.001622</td>\n",
              "      <td>0.008090</td>\n",
              "      <td>0.002884</td>\n",
              "    </tr>\n",
              "    <tr>\n",
              "      <th>std</th>\n",
              "      <td>1.000005</td>\n",
              "      <td>0.047790</td>\n",
              "      <td>0.028918</td>\n",
              "      <td>0.028279</td>\n",
              "      <td>0.061486</td>\n",
              "      <td>0.026608</td>\n",
              "      <td>0.028017</td>\n",
              "      <td>0.027247</td>\n",
              "      <td>0.047126</td>\n",
              "      <td>0.025732</td>\n",
              "      <td>0.032914</td>\n",
              "      <td>0.036605</td>\n",
              "      <td>0.057793</td>\n",
              "      <td>0.032661</td>\n",
              "      <td>0.029303</td>\n",
              "      <td>0.026306</td>\n",
              "      <td>0.064797</td>\n",
              "      <td>0.069746</td>\n",
              "      <td>0.036535</td>\n",
              "      <td>0.038756</td>\n",
              "      <td>0.057775</td>\n",
              "      <td>0.040043</td>\n",
              "      <td>0.098735</td>\n",
              "      <td>0.029786</td>\n",
              "      <td>0.059623</td>\n",
              "      <td>0.020083</td>\n",
              "      <td>0.085072</td>\n",
              "      <td>0.036985</td>\n",
              "      <td>0.061412</td>\n",
              "      <td>0.059019</td>\n",
              "      <td>0.027148</td>\n",
              "      <td>0.048982</td>\n",
              "      <td>0.052568</td>\n",
              "      <td>0.027523</td>\n",
              "      <td>0.057603</td>\n",
              "      <td>0.030711</td>\n",
              "      <td>0.037091</td>\n",
              "      <td>0.042318</td>\n",
              "      <td>0.048680</td>\n",
              "      <td>0.056886</td>\n",
              "      <td>...</td>\n",
              "      <td>0.021877</td>\n",
              "      <td>0.035894</td>\n",
              "      <td>0.023448</td>\n",
              "      <td>0.038950</td>\n",
              "      <td>0.074927</td>\n",
              "      <td>0.049678</td>\n",
              "      <td>0.082923</td>\n",
              "      <td>0.058712</td>\n",
              "      <td>0.057840</td>\n",
              "      <td>0.053581</td>\n",
              "      <td>0.076052</td>\n",
              "      <td>0.032385</td>\n",
              "      <td>0.026649</td>\n",
              "      <td>0.035187</td>\n",
              "      <td>0.024094</td>\n",
              "      <td>0.025366</td>\n",
              "      <td>0.024882</td>\n",
              "      <td>0.044811</td>\n",
              "      <td>0.034118</td>\n",
              "      <td>0.033638</td>\n",
              "      <td>0.028977</td>\n",
              "      <td>0.023360</td>\n",
              "      <td>0.031669</td>\n",
              "      <td>0.034901</td>\n",
              "      <td>0.046476</td>\n",
              "      <td>0.063942</td>\n",
              "      <td>0.033955</td>\n",
              "      <td>0.052126</td>\n",
              "      <td>0.084826</td>\n",
              "      <td>0.028575</td>\n",
              "      <td>0.041084</td>\n",
              "      <td>0.023740</td>\n",
              "      <td>0.031478</td>\n",
              "      <td>0.083218</td>\n",
              "      <td>0.031474</td>\n",
              "      <td>0.033785</td>\n",
              "      <td>0.027526</td>\n",
              "      <td>0.027459</td>\n",
              "      <td>0.056658</td>\n",
              "      <td>0.035656</td>\n",
              "    </tr>\n",
              "    <tr>\n",
              "      <th>min</th>\n",
              "      <td>0.020165</td>\n",
              "      <td>0.025301</td>\n",
              "      <td>0.000000</td>\n",
              "      <td>0.000000</td>\n",
              "      <td>0.000000</td>\n",
              "      <td>0.000000</td>\n",
              "      <td>0.000000</td>\n",
              "      <td>0.000000</td>\n",
              "      <td>0.000000</td>\n",
              "      <td>0.000000</td>\n",
              "      <td>0.000000</td>\n",
              "      <td>0.000000</td>\n",
              "      <td>0.000000</td>\n",
              "      <td>0.000000</td>\n",
              "      <td>0.000000</td>\n",
              "      <td>0.000000</td>\n",
              "      <td>0.000000</td>\n",
              "      <td>0.000000</td>\n",
              "      <td>0.000000</td>\n",
              "      <td>0.000000</td>\n",
              "      <td>0.000000</td>\n",
              "      <td>0.000000</td>\n",
              "      <td>0.000000</td>\n",
              "      <td>0.000000</td>\n",
              "      <td>0.000000</td>\n",
              "      <td>0.000000</td>\n",
              "      <td>0.000000</td>\n",
              "      <td>0.000000</td>\n",
              "      <td>0.000000</td>\n",
              "      <td>0.000000</td>\n",
              "      <td>0.000000</td>\n",
              "      <td>0.000000</td>\n",
              "      <td>0.000000</td>\n",
              "      <td>0.000000</td>\n",
              "      <td>0.000000</td>\n",
              "      <td>0.000000</td>\n",
              "      <td>0.000000</td>\n",
              "      <td>0.000000</td>\n",
              "      <td>0.000000</td>\n",
              "      <td>0.000000</td>\n",
              "      <td>...</td>\n",
              "      <td>0.000000</td>\n",
              "      <td>0.000000</td>\n",
              "      <td>0.000000</td>\n",
              "      <td>0.000000</td>\n",
              "      <td>0.000000</td>\n",
              "      <td>0.000000</td>\n",
              "      <td>0.000000</td>\n",
              "      <td>0.000000</td>\n",
              "      <td>0.000000</td>\n",
              "      <td>0.000000</td>\n",
              "      <td>0.000000</td>\n",
              "      <td>0.000000</td>\n",
              "      <td>0.000000</td>\n",
              "      <td>0.000000</td>\n",
              "      <td>0.000000</td>\n",
              "      <td>0.000000</td>\n",
              "      <td>0.000000</td>\n",
              "      <td>0.000000</td>\n",
              "      <td>0.000000</td>\n",
              "      <td>0.000000</td>\n",
              "      <td>0.000000</td>\n",
              "      <td>0.000000</td>\n",
              "      <td>0.000000</td>\n",
              "      <td>0.000000</td>\n",
              "      <td>0.000000</td>\n",
              "      <td>0.000000</td>\n",
              "      <td>0.000000</td>\n",
              "      <td>0.000000</td>\n",
              "      <td>0.000000</td>\n",
              "      <td>0.000000</td>\n",
              "      <td>0.000000</td>\n",
              "      <td>0.000000</td>\n",
              "      <td>0.000000</td>\n",
              "      <td>0.000000</td>\n",
              "      <td>0.000000</td>\n",
              "      <td>0.000000</td>\n",
              "      <td>0.000000</td>\n",
              "      <td>0.000000</td>\n",
              "      <td>0.000000</td>\n",
              "      <td>0.000000</td>\n",
              "    </tr>\n",
              "    <tr>\n",
              "      <th>25%</th>\n",
              "      <td>0.967905</td>\n",
              "      <td>0.068043</td>\n",
              "      <td>0.000000</td>\n",
              "      <td>0.000000</td>\n",
              "      <td>0.000000</td>\n",
              "      <td>0.000000</td>\n",
              "      <td>0.000000</td>\n",
              "      <td>0.000000</td>\n",
              "      <td>0.000000</td>\n",
              "      <td>0.000000</td>\n",
              "      <td>0.000000</td>\n",
              "      <td>0.000000</td>\n",
              "      <td>0.000000</td>\n",
              "      <td>0.000000</td>\n",
              "      <td>0.000000</td>\n",
              "      <td>0.000000</td>\n",
              "      <td>0.000000</td>\n",
              "      <td>0.000000</td>\n",
              "      <td>0.000000</td>\n",
              "      <td>0.000000</td>\n",
              "      <td>0.000000</td>\n",
              "      <td>0.000000</td>\n",
              "      <td>0.000000</td>\n",
              "      <td>0.000000</td>\n",
              "      <td>0.000000</td>\n",
              "      <td>0.000000</td>\n",
              "      <td>0.000000</td>\n",
              "      <td>0.000000</td>\n",
              "      <td>0.000000</td>\n",
              "      <td>0.000000</td>\n",
              "      <td>0.000000</td>\n",
              "      <td>0.000000</td>\n",
              "      <td>0.000000</td>\n",
              "      <td>0.000000</td>\n",
              "      <td>0.000000</td>\n",
              "      <td>0.000000</td>\n",
              "      <td>0.000000</td>\n",
              "      <td>0.000000</td>\n",
              "      <td>0.000000</td>\n",
              "      <td>0.000000</td>\n",
              "      <td>...</td>\n",
              "      <td>0.000000</td>\n",
              "      <td>0.000000</td>\n",
              "      <td>0.000000</td>\n",
              "      <td>0.000000</td>\n",
              "      <td>0.000000</td>\n",
              "      <td>0.000000</td>\n",
              "      <td>0.000000</td>\n",
              "      <td>0.000000</td>\n",
              "      <td>0.000000</td>\n",
              "      <td>0.000000</td>\n",
              "      <td>0.000000</td>\n",
              "      <td>0.000000</td>\n",
              "      <td>0.000000</td>\n",
              "      <td>0.000000</td>\n",
              "      <td>0.000000</td>\n",
              "      <td>0.000000</td>\n",
              "      <td>0.000000</td>\n",
              "      <td>0.000000</td>\n",
              "      <td>0.000000</td>\n",
              "      <td>0.000000</td>\n",
              "      <td>0.000000</td>\n",
              "      <td>0.000000</td>\n",
              "      <td>0.000000</td>\n",
              "      <td>0.000000</td>\n",
              "      <td>0.000000</td>\n",
              "      <td>0.000000</td>\n",
              "      <td>0.000000</td>\n",
              "      <td>0.000000</td>\n",
              "      <td>0.000000</td>\n",
              "      <td>0.000000</td>\n",
              "      <td>0.000000</td>\n",
              "      <td>0.000000</td>\n",
              "      <td>0.000000</td>\n",
              "      <td>0.000000</td>\n",
              "      <td>0.000000</td>\n",
              "      <td>0.000000</td>\n",
              "      <td>0.000000</td>\n",
              "      <td>0.000000</td>\n",
              "      <td>0.000000</td>\n",
              "      <td>0.000000</td>\n",
              "    </tr>\n",
              "    <tr>\n",
              "      <th>50%</th>\n",
              "      <td>1.391364</td>\n",
              "      <td>0.085377</td>\n",
              "      <td>0.000000</td>\n",
              "      <td>0.000000</td>\n",
              "      <td>0.000000</td>\n",
              "      <td>0.000000</td>\n",
              "      <td>0.000000</td>\n",
              "      <td>0.000000</td>\n",
              "      <td>0.000000</td>\n",
              "      <td>0.000000</td>\n",
              "      <td>0.000000</td>\n",
              "      <td>0.000000</td>\n",
              "      <td>0.000000</td>\n",
              "      <td>0.000000</td>\n",
              "      <td>0.000000</td>\n",
              "      <td>0.000000</td>\n",
              "      <td>0.000000</td>\n",
              "      <td>0.000000</td>\n",
              "      <td>0.000000</td>\n",
              "      <td>0.000000</td>\n",
              "      <td>0.000000</td>\n",
              "      <td>0.000000</td>\n",
              "      <td>0.000000</td>\n",
              "      <td>0.000000</td>\n",
              "      <td>0.000000</td>\n",
              "      <td>0.000000</td>\n",
              "      <td>0.000000</td>\n",
              "      <td>0.000000</td>\n",
              "      <td>0.000000</td>\n",
              "      <td>0.000000</td>\n",
              "      <td>0.000000</td>\n",
              "      <td>0.000000</td>\n",
              "      <td>0.000000</td>\n",
              "      <td>0.000000</td>\n",
              "      <td>0.000000</td>\n",
              "      <td>0.000000</td>\n",
              "      <td>0.000000</td>\n",
              "      <td>0.000000</td>\n",
              "      <td>0.000000</td>\n",
              "      <td>0.000000</td>\n",
              "      <td>...</td>\n",
              "      <td>0.000000</td>\n",
              "      <td>0.000000</td>\n",
              "      <td>0.000000</td>\n",
              "      <td>0.000000</td>\n",
              "      <td>0.000000</td>\n",
              "      <td>0.000000</td>\n",
              "      <td>0.000000</td>\n",
              "      <td>0.000000</td>\n",
              "      <td>0.000000</td>\n",
              "      <td>0.000000</td>\n",
              "      <td>0.000000</td>\n",
              "      <td>0.000000</td>\n",
              "      <td>0.000000</td>\n",
              "      <td>0.000000</td>\n",
              "      <td>0.000000</td>\n",
              "      <td>0.000000</td>\n",
              "      <td>0.000000</td>\n",
              "      <td>0.000000</td>\n",
              "      <td>0.000000</td>\n",
              "      <td>0.000000</td>\n",
              "      <td>0.000000</td>\n",
              "      <td>0.000000</td>\n",
              "      <td>0.000000</td>\n",
              "      <td>0.000000</td>\n",
              "      <td>0.000000</td>\n",
              "      <td>0.000000</td>\n",
              "      <td>0.000000</td>\n",
              "      <td>0.000000</td>\n",
              "      <td>0.000000</td>\n",
              "      <td>0.000000</td>\n",
              "      <td>0.000000</td>\n",
              "      <td>0.000000</td>\n",
              "      <td>0.000000</td>\n",
              "      <td>0.000000</td>\n",
              "      <td>0.000000</td>\n",
              "      <td>0.000000</td>\n",
              "      <td>0.000000</td>\n",
              "      <td>0.000000</td>\n",
              "      <td>0.000000</td>\n",
              "      <td>0.000000</td>\n",
              "    </tr>\n",
              "    <tr>\n",
              "      <th>75%</th>\n",
              "      <td>2.036634</td>\n",
              "      <td>0.110415</td>\n",
              "      <td>0.000000</td>\n",
              "      <td>0.000000</td>\n",
              "      <td>0.000000</td>\n",
              "      <td>0.000000</td>\n",
              "      <td>0.000000</td>\n",
              "      <td>0.000000</td>\n",
              "      <td>0.000000</td>\n",
              "      <td>0.000000</td>\n",
              "      <td>0.000000</td>\n",
              "      <td>0.000000</td>\n",
              "      <td>0.000000</td>\n",
              "      <td>0.000000</td>\n",
              "      <td>0.000000</td>\n",
              "      <td>0.000000</td>\n",
              "      <td>0.000000</td>\n",
              "      <td>0.000000</td>\n",
              "      <td>0.000000</td>\n",
              "      <td>0.000000</td>\n",
              "      <td>0.000000</td>\n",
              "      <td>0.000000</td>\n",
              "      <td>0.000000</td>\n",
              "      <td>0.000000</td>\n",
              "      <td>0.000000</td>\n",
              "      <td>0.000000</td>\n",
              "      <td>0.000000</td>\n",
              "      <td>0.000000</td>\n",
              "      <td>0.000000</td>\n",
              "      <td>0.000000</td>\n",
              "      <td>0.000000</td>\n",
              "      <td>0.000000</td>\n",
              "      <td>0.000000</td>\n",
              "      <td>0.000000</td>\n",
              "      <td>0.000000</td>\n",
              "      <td>0.000000</td>\n",
              "      <td>0.000000</td>\n",
              "      <td>0.000000</td>\n",
              "      <td>0.000000</td>\n",
              "      <td>0.000000</td>\n",
              "      <td>...</td>\n",
              "      <td>0.000000</td>\n",
              "      <td>0.000000</td>\n",
              "      <td>0.000000</td>\n",
              "      <td>0.000000</td>\n",
              "      <td>0.000000</td>\n",
              "      <td>0.000000</td>\n",
              "      <td>0.000000</td>\n",
              "      <td>0.000000</td>\n",
              "      <td>0.000000</td>\n",
              "      <td>0.000000</td>\n",
              "      <td>0.000000</td>\n",
              "      <td>0.000000</td>\n",
              "      <td>0.000000</td>\n",
              "      <td>0.000000</td>\n",
              "      <td>0.000000</td>\n",
              "      <td>0.000000</td>\n",
              "      <td>0.000000</td>\n",
              "      <td>0.000000</td>\n",
              "      <td>0.000000</td>\n",
              "      <td>0.000000</td>\n",
              "      <td>0.000000</td>\n",
              "      <td>0.000000</td>\n",
              "      <td>0.000000</td>\n",
              "      <td>0.000000</td>\n",
              "      <td>0.000000</td>\n",
              "      <td>0.000000</td>\n",
              "      <td>0.000000</td>\n",
              "      <td>0.000000</td>\n",
              "      <td>0.000000</td>\n",
              "      <td>0.000000</td>\n",
              "      <td>0.000000</td>\n",
              "      <td>0.000000</td>\n",
              "      <td>0.000000</td>\n",
              "      <td>0.000000</td>\n",
              "      <td>0.000000</td>\n",
              "      <td>0.000000</td>\n",
              "      <td>0.000000</td>\n",
              "      <td>0.000000</td>\n",
              "      <td>0.000000</td>\n",
              "      <td>0.000000</td>\n",
              "    </tr>\n",
              "    <tr>\n",
              "      <th>max</th>\n",
              "      <td>14.800882</td>\n",
              "      <td>1.000000</td>\n",
              "      <td>0.758281</td>\n",
              "      <td>0.968898</td>\n",
              "      <td>0.815793</td>\n",
              "      <td>0.784377</td>\n",
              "      <td>0.744530</td>\n",
              "      <td>0.755511</td>\n",
              "      <td>0.819515</td>\n",
              "      <td>0.870776</td>\n",
              "      <td>0.834515</td>\n",
              "      <td>0.960628</td>\n",
              "      <td>0.758494</td>\n",
              "      <td>0.777628</td>\n",
              "      <td>0.714411</td>\n",
              "      <td>0.989073</td>\n",
              "      <td>0.974953</td>\n",
              "      <td>0.971755</td>\n",
              "      <td>0.883450</td>\n",
              "      <td>0.664933</td>\n",
              "      <td>0.794342</td>\n",
              "      <td>0.984168</td>\n",
              "      <td>0.733388</td>\n",
              "      <td>0.874780</td>\n",
              "      <td>0.783086</td>\n",
              "      <td>0.591122</td>\n",
              "      <td>0.935728</td>\n",
              "      <td>0.888988</td>\n",
              "      <td>0.733084</td>\n",
              "      <td>0.766640</td>\n",
              "      <td>0.792462</td>\n",
              "      <td>0.875599</td>\n",
              "      <td>0.877534</td>\n",
              "      <td>0.763717</td>\n",
              "      <td>0.767679</td>\n",
              "      <td>0.988477</td>\n",
              "      <td>0.884096</td>\n",
              "      <td>0.831179</td>\n",
              "      <td>0.720129</td>\n",
              "      <td>0.983575</td>\n",
              "      <td>...</td>\n",
              "      <td>0.733797</td>\n",
              "      <td>0.813628</td>\n",
              "      <td>0.682867</td>\n",
              "      <td>0.774839</td>\n",
              "      <td>0.822137</td>\n",
              "      <td>0.792335</td>\n",
              "      <td>0.714418</td>\n",
              "      <td>0.942231</td>\n",
              "      <td>0.769082</td>\n",
              "      <td>0.888243</td>\n",
              "      <td>0.971169</td>\n",
              "      <td>0.794085</td>\n",
              "      <td>0.970527</td>\n",
              "      <td>0.779213</td>\n",
              "      <td>0.727218</td>\n",
              "      <td>0.919929</td>\n",
              "      <td>0.704020</td>\n",
              "      <td>0.983315</td>\n",
              "      <td>0.764957</td>\n",
              "      <td>0.902260</td>\n",
              "      <td>0.747315</td>\n",
              "      <td>0.711514</td>\n",
              "      <td>0.916109</td>\n",
              "      <td>0.885146</td>\n",
              "      <td>0.980325</td>\n",
              "      <td>0.829625</td>\n",
              "      <td>0.984362</td>\n",
              "      <td>0.878863</td>\n",
              "      <td>0.986492</td>\n",
              "      <td>0.827802</td>\n",
              "      <td>0.766213</td>\n",
              "      <td>0.796015</td>\n",
              "      <td>0.738715</td>\n",
              "      <td>0.972587</td>\n",
              "      <td>0.839437</td>\n",
              "      <td>0.777551</td>\n",
              "      <td>0.777278</td>\n",
              "      <td>0.795022</td>\n",
              "      <td>0.979291</td>\n",
              "      <td>0.753644</td>\n",
              "    </tr>\n",
              "  </tbody>\n",
              "</table>\n",
              "<p>8 rows × 501 columns</p>\n",
              "</div>"
            ],
            "text/plain": [
              "            body_len              0  ...            498            499\n",
              "count  101634.000000  101634.000000  ...  101634.000000  101634.000000\n",
              "mean        1.642468       0.095329  ...       0.008090       0.002884\n",
              "std         1.000005       0.047790  ...       0.056658       0.035656\n",
              "min         0.020165       0.025301  ...       0.000000       0.000000\n",
              "25%         0.967905       0.068043  ...       0.000000       0.000000\n",
              "50%         1.391364       0.085377  ...       0.000000       0.000000\n",
              "75%         2.036634       0.110415  ...       0.000000       0.000000\n",
              "max        14.800882       1.000000  ...       0.979291       0.753644\n",
              "\n",
              "[8 rows x 501 columns]"
            ]
          },
          "metadata": {
            "tags": []
          }
        }
      ]
    },
    {
      "cell_type": "markdown",
      "metadata": {
        "id": "pqmR5YxlKAox",
        "colab_type": "text"
      },
      "source": [
        "dividing the dataset into train and test sets and fitting the model"
      ]
    },
    {
      "cell_type": "code",
      "metadata": {
        "id": "fZk3HLjeUL2Y",
        "colab_type": "code",
        "colab": {}
      },
      "source": [
        "from imblearn.over_sampling import SMOTE\n",
        "features, labels = SMOTE().fit_resample(features, labels)"
      ],
      "execution_count": 38,
      "outputs": []
    },
    {
      "cell_type": "markdown",
      "metadata": {
        "id": "GqMwLquq4paM",
        "colab_type": "text"
      },
      "source": [
        "Comparing various models on accuracy score through cross validation "
      ]
    },
    {
      "cell_type": "code",
      "metadata": {
        "id": "1IZ05nlC4YV4",
        "colab_type": "code",
        "colab": {
          "base_uri": "https://localhost:8080/",
          "height": 611
        },
        "outputId": "5caa463e-11a3-4dde-f9ef-2f889022d80b"
      },
      "source": [
        "from sklearn.ensemble import RandomForestClassifier\n",
        "from sklearn.svm import LinearSVC\n",
        "from sklearn.naive_bayes import GaussianNB\n",
        "from sklearn.model_selection import cross_val_score\n",
        "from sklearn.linear_model import SGDClassifier\n",
        "from sklearn.naive_bayes import MultinomialNB\n",
        "from sklearn.linear_model import PassiveAggressiveClassifier\n",
        "from sklearn.linear_model import Perceptron\n",
        "models = [\n",
        "    RandomForestClassifier(n_estimators=100, max_depth=20, random_state=0,n_jobs=-1),\n",
        "    MultinomialNB(),\n",
        "    SGDClassifier(loss=\"hinge\", penalty=\"l2\", max_iter=1000),\n",
        "    LinearSVC(class_weight= 'balanced'),\n",
        "    Perceptron(),\n",
        "    PassiveAggressiveClassifier(),\n",
        "    GaussianNB()\n",
        "]\n",
        "CV = 5\n",
        "cv_df = pd.DataFrame(index=range(CV * len(models)))\n",
        "entries = []\n",
        "for model in models:\n",
        "  model_name = model.__class__.__name__\n",
        "  accuracies = cross_val_score(model, features, labels, scoring='accuracy', cv=CV)\n",
        "  for fold_idx, accuracy in enumerate(accuracies):\n",
        "    entries.append((model_name, fold_idx, accuracy))\n",
        "cv_df = pd.DataFrame(entries, columns=['model_name', 'fold_idx', 'accuracy'])\n",
        "import seaborn as sns\n",
        "sns.boxplot(x='model_name', y='accuracy', data=cv_df)\n",
        "sns.stripplot(x='model_name', y='accuracy', data=cv_df, \n",
        "              size=10, jitter=True, edgecolor=\"gray\", linewidth=2)\n",
        "plt.show()"
      ],
      "execution_count": 39,
      "outputs": [
        {
          "output_type": "display_data",
          "data": {
            "image/png": "[encoded data removed]",
            "text/plain": [
              "<Figure size 1440x720 with 1 Axes>"
            ]
          },
          "metadata": {
            "tags": []
          }
        }
      ]
    },
    {
      "cell_type": "code",
      "metadata": {
        "id": "Qc2Ez6XF8O0q",
        "colab_type": "code",
        "colab": {
          "base_uri": "https://localhost:8080/",
          "height": 170
        },
        "outputId": "9c6782b9-0573-4e61-8cdd-a222e199547a"
      },
      "source": [
        "\n",
        "cv_df.groupby('model_name').accuracy.mean()\n"
      ],
      "execution_count": 40,
      "outputs": [
        {
          "output_type": "execute_result",
          "data": {
            "text/plain": [
              "model_name\n",
              "GaussianNB                     0.671545\n",
              "LinearSVC                      0.808686\n",
              "MultinomialNB                  0.746025\n",
              "PassiveAggressiveClassifier    0.757474\n",
              "Perceptron                     0.737339\n",
              "RandomForestClassifier         0.805982\n",
              "SGDClassifier                  0.803598\n",
              "Name: accuracy, dtype: float64"
            ]
          },
          "metadata": {
            "tags": []
          },
          "execution_count": 40
        }
      ]
    },
    {
      "cell_type": "code",
      "metadata": {
        "id": "2w-thrR0fTCo",
        "colab_type": "code",
        "colab": {
          "base_uri": "https://localhost:8080/",
          "height": 34
        },
        "outputId": "dcf63a41-4872-4290-e56d-01bd2a960872"
      },
      "source": [
        "X_train, X_test, y_train, y_test = train_test_split(features, labels, test_size=0.30, random_state=0)\n",
        "model = RandomForestClassifier(n_estimators=100, max_depth=20, random_state=0,n_jobs=-1)\n",
        "X_train.shape"
      ],
      "execution_count": 41,
      "outputs": [
        {
          "output_type": "execute_result",
          "data": {
            "text/plain": [
              "(120638, 501)"
            ]
          },
          "metadata": {
            "tags": []
          },
          "execution_count": 41
        }
      ]
    },
    {
      "cell_type": "code",
      "metadata": {
        "id": "p5lrsG9TRvPs",
        "colab_type": "code",
        "colab": {
          "base_uri": "https://localhost:8080/",
          "height": 612
        },
        "outputId": "bf0ef995-e795-4eec-ac06-d92729e9513f"
      },
      "source": [
        "model.fit(X_train, y_train)\n",
        "y_pred = model.predict(X_test)\n",
        "from sklearn.metrics import confusion_matrix\n",
        "conf_mat = confusion_matrix(y_test, y_pred)\n",
        "fig, ax = plt.subplots(figsize=(10,10))\n",
        "sns.heatmap(conf_mat, annot=True, fmt='d',\n",
        "            xticklabels=target_id_df.Target.values, yticklabels=target_id_df.Target.values)\n",
        "plt.ylabel('Actual')\n",
        "plt.xlabel('Predicted')\n",
        "plt.show() #Heatmap to represent confusion matrix"
      ],
      "execution_count": 50,
      "outputs": [
        {
          "output_type": "display_data",
          "data": {
            "image/png": "[encoded data removed]",
            "text/plain": [
              "<Figure size 720x720 with 2 Axes>"
            ]
          },
          "metadata": {
            "tags": []
          }
        }
      ]
    },
    {
      "cell_type": "markdown",
      "metadata": {
        "id": "LsJTaGACKKP2",
        "colab_type": "text"
      },
      "source": [
        "Performance metrices for the model on holdout test set"
      ]
    },
    {
      "cell_type": "code",
      "metadata": {
        "id": "C89kwHd-aXZ6",
        "colab_type": "code",
        "colab": {
          "base_uri": "https://localhost:8080/",
          "height": 238
        },
        "outputId": "f6854220-c4e2-4f63-c0cf-210cd94e6fca"
      },
      "source": [
        "from sklearn import metrics\n",
        "print(metrics.classification_report(y_test, y_pred, target_names=df['Target'].unique()))\n",
        "print()\n",
        "from sklearn.metrics import precision_recall_fscore_support as score\n",
        "precision, recall, fscore, support = score(y_test, y_pred,average='weighted')\n",
        "print('Precision: {} / Recall: {} / Accuracy: {} / F1-score: {}'.format(round(precision, 3),\n",
        "                                                        round(recall, 3),\n",
        "                                                        round((y_pred==y_test).sum() / len(y_pred),3),round(fscore, 3)))"
      ],
      "execution_count": 43,
      "outputs": [
        {
          "output_type": "stream",
          "text": [
            "                precision    recall  f1-score   support\n",
            "\n",
            "Run_Bw_Wickets       0.76      0.64      0.70     12781\n",
            "           Dot       0.77      0.75      0.76     12966\n",
            "        Wicket       0.90      0.96      0.93     13051\n",
            "      Boundary       0.78      0.87      0.82     12904\n",
            "\n",
            "      accuracy                           0.81     51702\n",
            "     macro avg       0.80      0.81      0.80     51702\n",
            "  weighted avg       0.80      0.81      0.80     51702\n",
            "\n",
            "\n",
            "Precision: 0.804 / Recall: 0.807 / Accuracy: 0.807 / F1-score: 0.803\n"
          ],
          "name": "stdout"
        }
      ]
    },
    {
      "cell_type": "markdown",
      "metadata": {
        "id": "moicV9yGKTC3",
        "colab_type": "text"
      },
      "source": [
        "Performing classification on unseen data and saving it\n"
      ]
    },
    {
      "cell_type": "code",
      "metadata": {
        "id": "ybvOI-xtabwU",
        "colab_type": "code",
        "colab": {
          "base_uri": "https://localhost:8080/",
          "height": 34
        },
        "outputId": "58a8a719-bd72-41d2-97b4-b0aacf0abadc"
      },
      "source": [
        "test = pd.read_excel(\"/content/drive/My Drive/Colab Notebooks/CCC_TestData.xlsx\",index_col='ID',dtype=str)\n",
        "test['body_len'] = test['Commentary'].apply(lambda x: len(x) - x.count(\" \"))\n",
        "from sklearn.preprocessing import StandardScaler\n",
        "scaler = StandardScaler(with_mean=False)\n",
        "scaler.fit(test[['body_len']])\n",
        "test[['body_len']] = scaler.transform(test[['body_len']])\n",
        "from sklearn.feature_extraction.text import TfidfVectorizer\n",
        "tfidf = TfidfVectorizer(sublinear_tf=True, min_df=5, norm='l2', encoding='latin-1', ngram_range=(1,2),max_features=500,analyzer=clean_data)\n",
        "features = pd.concat([test['body_len'], pd.DataFrame(tfidf.fit_transform(test.Commentary).toarray())],axis=1)\n",
        "print(features.shape)\n",
        "y_pred = model.predict(features)\n",
        "results = pd.DataFrame (y_pred)\n",
        "results.columns =['Target'] \n",
        "results.head()\n",
        "results['Target'].replace(id_to_target, inplace=True)\n",
        "filepath = '/content/drive/My Drive/Colab Notebooks/CCC_SampleOutputPredictionsRF.xlsx'\n",
        "\n",
        "results.to_excel(filepath, index=False)"
      ],
      "execution_count": 44,
      "outputs": [
        {
          "output_type": "stream",
          "text": [
            "(26143, 501)\n"
          ],
          "name": "stdout"
        }
      ]
    },
    {
      "cell_type": "markdown",
      "metadata": {
        "id": "gG_MDVHQKvmn",
        "colab_type": "text"
      },
      "source": [
        "Saving the model in .sav file"
      ]
    },
    {
      "cell_type": "code",
      "metadata": {
        "id": "TacCZglbnYU2",
        "colab_type": "code",
        "colab": {}
      },
      "source": [
        "import pickle\n",
        "filename = '/content/drive/My Drive/Cricket_Classification_RandomForest.sav'\n",
        "pickle.dump(model, open(filename, 'wb'))"
      ],
      "execution_count": 45,
      "outputs": []
    },
    {
      "cell_type": "code",
      "metadata": {
        "id": "iXVMGMgJMpVe",
        "colab_type": "code",
        "colab": {}
      },
      "source": [
        ""
      ],
      "execution_count": null,
      "outputs": []
    }
  ]
}